{
 "cells": [
  {
   "cell_type": "markdown",
   "metadata": {},
   "source": [
    "# Import data from csv-file"
   ]
  },
  {
   "cell_type": "code",
   "execution_count": 2,
   "metadata": {},
   "outputs": [
    {
     "data": {
      "text/html": [
       "<div>\n",
       "<style scoped>\n",
       "    .dataframe tbody tr th:only-of-type {\n",
       "        vertical-align: middle;\n",
       "    }\n",
       "\n",
       "    .dataframe tbody tr th {\n",
       "        vertical-align: top;\n",
       "    }\n",
       "\n",
       "    .dataframe thead th {\n",
       "        text-align: right;\n",
       "    }\n",
       "</style>\n",
       "<table border=\"1\" class=\"dataframe\">\n",
       "  <thead>\n",
       "    <tr style=\"text-align: right;\">\n",
       "      <th></th>\n",
       "      <th>id</th>\n",
       "      <th>name</th>\n",
       "      <th>price</th>\n",
       "      <th>sales</th>\n",
       "      <th>brand</th>\n",
       "    </tr>\n",
       "  </thead>\n",
       "  <tbody>\n",
       "    <tr>\n",
       "      <th>0</th>\n",
       "      <td>101</td>\n",
       "      <td>biscuits</td>\n",
       "      <td>5.00</td>\n",
       "      <td>227</td>\n",
       "      <td>HomeFoods</td>\n",
       "    </tr>\n",
       "    <tr>\n",
       "      <th>1</th>\n",
       "      <td>102</td>\n",
       "      <td>cookies</td>\n",
       "      <td>7.25</td>\n",
       "      <td>158</td>\n",
       "      <td>TBakery</td>\n",
       "    </tr>\n",
       "    <tr>\n",
       "      <th>2</th>\n",
       "      <td>103</td>\n",
       "      <td>cake</td>\n",
       "      <td>12.00</td>\n",
       "      <td>50</td>\n",
       "      <td>TBakery</td>\n",
       "    </tr>\n",
       "    <tr>\n",
       "      <th>3</th>\n",
       "      <td>104</td>\n",
       "      <td>whey_supplement</td>\n",
       "      <td>34.90</td>\n",
       "      <td>24</td>\n",
       "      <td>MusleUp</td>\n",
       "    </tr>\n",
       "    <tr>\n",
       "      <th>4</th>\n",
       "      <td>105</td>\n",
       "      <td>protein_bars</td>\n",
       "      <td>4.90</td>\n",
       "      <td>85</td>\n",
       "      <td>MusleUp</td>\n",
       "    </tr>\n",
       "    <tr>\n",
       "      <th>5</th>\n",
       "      <td>106</td>\n",
       "      <td>potato_chips</td>\n",
       "      <td>1.75</td>\n",
       "      <td>121</td>\n",
       "      <td>HomeFoods</td>\n",
       "    </tr>\n",
       "  </tbody>\n",
       "</table>\n",
       "</div>"
      ],
      "text/plain": [
       "    id             name  price  sales      brand\n",
       "0  101         biscuits   5.00    227  HomeFoods\n",
       "1  102          cookies   7.25    158    TBakery\n",
       "2  103             cake  12.00     50    TBakery\n",
       "3  104  whey_supplement  34.90     24    MusleUp\n",
       "4  105     protein_bars   4.90     85    MusleUp\n",
       "5  106     potato_chips   1.75    121  HomeFoods"
      ]
     },
     "execution_count": 2,
     "metadata": {},
     "output_type": "execute_result"
    }
   ],
   "source": [
    "import pandas\n",
    "data_dir = 'csv_data.csv'\n",
    "\n",
    "dt = pandas.read_csv(data_dir)\n",
    "dt"
   ]
  },
  {
   "cell_type": "code",
   "execution_count": 3,
   "metadata": {},
   "outputs": [
    {
     "data": {
      "text/plain": [
       "array([[101, 'biscuits', 5.0, 227, 'HomeFoods'],\n",
       "       [102, 'cookies', 7.25, 158, 'TBakery'],\n",
       "       [103, 'cake', 12.0, 50, 'TBakery'],\n",
       "       [104, 'whey_supplement', 34.9, 24, 'MusleUp'],\n",
       "       [105, 'protein_bars', 4.9, 85, 'MusleUp'],\n",
       "       [106, 'potato_chips', 1.75, 121, 'HomeFoods']], dtype=object)"
      ]
     },
     "execution_count": 3,
     "metadata": {},
     "output_type": "execute_result"
    }
   ],
   "source": [
    "dt.values"
   ]
  },
  {
   "cell_type": "code",
   "execution_count": null,
   "metadata": {},
   "outputs": [],
   "source": []
  },
  {
   "cell_type": "markdown",
   "metadata": {},
   "source": [
    "# Import data from json-file"
   ]
  },
  {
   "cell_type": "code",
   "execution_count": 4,
   "metadata": {},
   "outputs": [
    {
     "data": {
      "text/html": [
       "<div>\n",
       "<style scoped>\n",
       "    .dataframe tbody tr th:only-of-type {\n",
       "        vertical-align: middle;\n",
       "    }\n",
       "\n",
       "    .dataframe tbody tr th {\n",
       "        vertical-align: top;\n",
       "    }\n",
       "\n",
       "    .dataframe thead th {\n",
       "        text-align: right;\n",
       "    }\n",
       "</style>\n",
       "<table border=\"1\" class=\"dataframe\">\n",
       "  <thead>\n",
       "    <tr style=\"text-align: right;\">\n",
       "      <th></th>\n",
       "      <th>id</th>\n",
       "      <th>name</th>\n",
       "      <th>price</th>\n",
       "      <th>sales</th>\n",
       "      <th>brand</th>\n",
       "    </tr>\n",
       "  </thead>\n",
       "  <tbody>\n",
       "    <tr>\n",
       "      <th>0</th>\n",
       "      <td>101</td>\n",
       "      <td>biscuits</td>\n",
       "      <td>5.00</td>\n",
       "      <td>227</td>\n",
       "      <td>HomeFoods</td>\n",
       "    </tr>\n",
       "    <tr>\n",
       "      <th>1</th>\n",
       "      <td>102</td>\n",
       "      <td>cookies</td>\n",
       "      <td>7.25</td>\n",
       "      <td>158</td>\n",
       "      <td>TBakery</td>\n",
       "    </tr>\n",
       "    <tr>\n",
       "      <th>2</th>\n",
       "      <td>103</td>\n",
       "      <td>cake</td>\n",
       "      <td>12.00</td>\n",
       "      <td>50</td>\n",
       "      <td>TBakery</td>\n",
       "    </tr>\n",
       "    <tr>\n",
       "      <th>3</th>\n",
       "      <td>104</td>\n",
       "      <td>whey_supplement</td>\n",
       "      <td>34.90</td>\n",
       "      <td>24</td>\n",
       "      <td>MusleUp</td>\n",
       "    </tr>\n",
       "    <tr>\n",
       "      <th>4</th>\n",
       "      <td>105</td>\n",
       "      <td>protein_bars</td>\n",
       "      <td>4.90</td>\n",
       "      <td>85</td>\n",
       "      <td>MusleUp</td>\n",
       "    </tr>\n",
       "    <tr>\n",
       "      <th>5</th>\n",
       "      <td>106</td>\n",
       "      <td>potato_chips</td>\n",
       "      <td>1.75</td>\n",
       "      <td>121</td>\n",
       "      <td>HomeFoods</td>\n",
       "    </tr>\n",
       "  </tbody>\n",
       "</table>\n",
       "</div>"
      ],
      "text/plain": [
       "    id             name  price  sales      brand\n",
       "0  101         biscuits   5.00    227  HomeFoods\n",
       "1  102          cookies   7.25    158    TBakery\n",
       "2  103             cake  12.00     50    TBakery\n",
       "3  104  whey_supplement  34.90     24    MusleUp\n",
       "4  105     protein_bars   4.90     85    MusleUp\n",
       "5  106     potato_chips   1.75    121  HomeFoods"
      ]
     },
     "execution_count": 4,
     "metadata": {},
     "output_type": "execute_result"
    }
   ],
   "source": [
    "data_dir = 'json_data.json'\n",
    "dt = pandas.read_json(data_dir)\n",
    "dt"
   ]
  },
  {
   "cell_type": "code",
   "execution_count": null,
   "metadata": {},
   "outputs": [],
   "source": []
  },
  {
   "cell_type": "markdown",
   "metadata": {},
   "source": [
    "# Import data from excel-file"
   ]
  },
  {
   "cell_type": "code",
   "execution_count": 5,
   "metadata": {},
   "outputs": [
    {
     "data": {
      "text/html": [
       "<div>\n",
       "<style scoped>\n",
       "    .dataframe tbody tr th:only-of-type {\n",
       "        vertical-align: middle;\n",
       "    }\n",
       "\n",
       "    .dataframe tbody tr th {\n",
       "        vertical-align: top;\n",
       "    }\n",
       "\n",
       "    .dataframe thead th {\n",
       "        text-align: right;\n",
       "    }\n",
       "</style>\n",
       "<table border=\"1\" class=\"dataframe\">\n",
       "  <thead>\n",
       "    <tr style=\"text-align: right;\">\n",
       "      <th></th>\n",
       "      <th>id</th>\n",
       "      <th>name</th>\n",
       "      <th>price</th>\n",
       "      <th>sales</th>\n",
       "      <th>brand</th>\n",
       "    </tr>\n",
       "  </thead>\n",
       "  <tbody>\n",
       "    <tr>\n",
       "      <th>0</th>\n",
       "      <td>101</td>\n",
       "      <td>biscuits</td>\n",
       "      <td>5.00</td>\n",
       "      <td>227</td>\n",
       "      <td>HomeFoods</td>\n",
       "    </tr>\n",
       "    <tr>\n",
       "      <th>1</th>\n",
       "      <td>102</td>\n",
       "      <td>cookies</td>\n",
       "      <td>7.25</td>\n",
       "      <td>158</td>\n",
       "      <td>TBakery</td>\n",
       "    </tr>\n",
       "    <tr>\n",
       "      <th>2</th>\n",
       "      <td>103</td>\n",
       "      <td>cake</td>\n",
       "      <td>12.00</td>\n",
       "      <td>50</td>\n",
       "      <td>TBakery</td>\n",
       "    </tr>\n",
       "    <tr>\n",
       "      <th>3</th>\n",
       "      <td>104</td>\n",
       "      <td>whey_supplement</td>\n",
       "      <td>34.90</td>\n",
       "      <td>24</td>\n",
       "      <td>MusleUp</td>\n",
       "    </tr>\n",
       "    <tr>\n",
       "      <th>4</th>\n",
       "      <td>105</td>\n",
       "      <td>protein_bars</td>\n",
       "      <td>4.90</td>\n",
       "      <td>85</td>\n",
       "      <td>MusleUp</td>\n",
       "    </tr>\n",
       "    <tr>\n",
       "      <th>5</th>\n",
       "      <td>106</td>\n",
       "      <td>potato_chips</td>\n",
       "      <td>1.75</td>\n",
       "      <td>121</td>\n",
       "      <td>HomeFoods</td>\n",
       "    </tr>\n",
       "  </tbody>\n",
       "</table>\n",
       "</div>"
      ],
      "text/plain": [
       "    id             name  price  sales      brand\n",
       "0  101         biscuits   5.00    227  HomeFoods\n",
       "1  102          cookies   7.25    158    TBakery\n",
       "2  103             cake  12.00     50    TBakery\n",
       "3  104  whey_supplement  34.90     24    MusleUp\n",
       "4  105     protein_bars   4.90     85    MusleUp\n",
       "5  106     potato_chips   1.75    121  HomeFoods"
      ]
     },
     "execution_count": 5,
     "metadata": {},
     "output_type": "execute_result"
    }
   ],
   "source": [
    "data_dir = 'xlsx_data.xlsx'\n",
    "dt = pandas.read_excel(data_dir)\n",
    "dt"
   ]
  },
  {
   "cell_type": "code",
   "execution_count": null,
   "metadata": {},
   "outputs": [],
   "source": []
  }
 ],
 "metadata": {
  "kernelspec": {
   "display_name": "Python 3",
   "language": "python",
   "name": "python3"
  },
  "language_info": {
   "codemirror_mode": {
    "name": "ipython",
    "version": 3
   },
   "file_extension": ".py",
   "mimetype": "text/x-python",
   "name": "python",
   "nbconvert_exporter": "python",
   "pygments_lexer": "ipython3",
   "version": "3.8.5"
  }
 },
 "nbformat": 4,
 "nbformat_minor": 4
}
