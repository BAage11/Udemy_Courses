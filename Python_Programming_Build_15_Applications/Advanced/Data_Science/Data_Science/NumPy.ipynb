{
 "cells": [
  {
   "cell_type": "markdown",
   "metadata": {},
   "source": [
    "#### --->   To run a program line, press 'Ctrl + Enter'    <---"
   ]
  },
  {
   "cell_type": "code",
   "execution_count": 1,
   "metadata": {},
   "outputs": [
    {
     "name": "stdout",
     "output_type": "stream",
     "text": [
      "[12 34 56]\n",
      "\n",
      "[[12 34 56]\n",
      " [34 33 67]]\n",
      "\n",
      "[[[12 34 56]\n",
      "  [34 33 67]]]\n",
      "\n",
      "['12' '34' '56']\n",
      "\n",
      "[ 6 28 50 11]\n",
      "\n",
      "34\n",
      "67\n"
     ]
    }
   ],
   "source": [
    "import numpy as npy\n",
    "\n",
    "# One dimension array\n",
    "ar1 = npy.array([12, 34, 56])\n",
    "print(ar1)\n",
    "print()\n",
    "\n",
    "# Two dimension array\n",
    "ar2 = npy.array([[12, 34, 56], [34,33, 67]])\n",
    "print(ar2)\n",
    "print()\n",
    "\n",
    "# Three dimension array, by specifying the number of dimensions (ndmin)\n",
    "ar3 = npy.array([[12, 34, 56], [34,33,67]], ndmin=3)\n",
    "print(ar3)\n",
    "print()\n",
    "\n",
    "# Specify the data type of the array(s) in dtype\n",
    "ar4 = npy.array([12,34,56], dtype=str)\n",
    "print(ar4)\n",
    "print()\n",
    "\n",
    "# Increase the values of an array by X\n",
    "ar5 = npy.array([1,23,45,6])\n",
    "ar5_new = ar5 + 5\n",
    "print(ar5_new)\n",
    "print()\n",
    "\n",
    "# Printing values from dimensional arrays\n",
    "print(ar1[1])\n",
    "print(ar2[1,2])"
   ]
  },
  {
   "cell_type": "code",
   "execution_count": null,
   "metadata": {},
   "outputs": [],
   "source": [
    "\n"
   ]
  }
 ],
 "metadata": {
  "kernelspec": {
   "display_name": "Python 3",
   "language": "python",
   "name": "python3"
  },
  "language_info": {
   "codemirror_mode": {
    "name": "ipython",
    "version": 3
   },
   "file_extension": ".py",
   "mimetype": "text/x-python",
   "name": "python",
   "nbconvert_exporter": "python",
   "pygments_lexer": "ipython3",
   "version": "3.8.5"
  }
 },
 "nbformat": 4,
 "nbformat_minor": 4
}
