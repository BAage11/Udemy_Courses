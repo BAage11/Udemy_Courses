{
 "cells": [
  {
   "cell_type": "markdown",
   "metadata": {},
   "source": [
    "# Series"
   ]
  },
  {
   "cell_type": "code",
   "execution_count": 2,
   "metadata": {},
   "outputs": [
    {
     "name": "stdout",
     "output_type": "stream",
     "text": [
      "0    12\n",
      "1    34\n",
      "2    56\n",
      "3    78\n",
      "4    90\n",
      "dtype: int64\n",
      "\n",
      "1    12\n",
      "2    34\n",
      "3    56\n",
      "4    78\n",
      "5    90\n",
      "dtype: int64\n",
      "\n",
      "a    12\n",
      "b    34\n",
      "c    56\n",
      "d    78\n",
      "e    90\n",
      "dtype: int64\n",
      "\n",
      "a    12.000000+0.000000j\n",
      "b    34.000000+0.000000j\n",
      "c    56.000000+0.000000j\n",
      "d    78.000000+0.000000j\n",
      "e    90.000000+0.000000j\n",
      "dtype: complex128\n",
      "\n"
     ]
    }
   ],
   "source": [
    "import pandas as pd\n",
    "import numpy as npy\n",
    "\n",
    "sr = pd.Series([12, 34, 56, 78, 90])\n",
    "print(sr)\n",
    "print()\n",
    "\n",
    "# Change the index numbers\n",
    "sr = pd.Series([12,34,56,78,90], index=[1,2,3,4,5])\n",
    "print(sr)\n",
    "print()\n",
    "\n",
    "sr = pd.Series([12,34,56,78,90], index=['a', 'b', 'c', 'd', 'e'])\n",
    "print(sr)\n",
    "print()\n",
    "\n",
    "# Change the data type of the series, using dtype\n",
    "sr = pd.Series([12,34,56,78,90], index=['a', 'b', 'c', 'd', 'e'], dtype = complex)\n",
    "print(sr)\n",
    "print()"
   ]
  },
  {
   "cell_type": "markdown",
   "metadata": {},
   "source": [
    "# Numpy array to Series"
   ]
  },
  {
   "cell_type": "code",
   "execution_count": 3,
   "metadata": {},
   "outputs": [
    {
     "name": "stdout",
     "output_type": "stream",
     "text": [
      "a    1\n",
      "b    2\n",
      "c    3\n",
      "d    4\n",
      "e    5\n",
      "f    6\n",
      "dtype: int32\n",
      "\n"
     ]
    }
   ],
   "source": [
    "# Convert numpy array to panda series, with indexes\n",
    "ar = npy.array([1,2,3,4,5,6])\n",
    "sr = pd.Series(data = ar, index = ['a', 'b', 'c', 'd', 'e', 'f'])\n",
    "\n",
    "print(sr)\n",
    "print()\n",
    "\n",
    "# You cannot pass more than a single dimensional array into a Series\n",
    "# To pass a multi-dimensional array, we use DataFrames instead"
   ]
  },
  {
   "cell_type": "markdown",
   "metadata": {},
   "source": [
    "# Retrieve value(s) from Series"
   ]
  },
  {
   "cell_type": "code",
   "execution_count": 4,
   "metadata": {},
   "outputs": [
    {
     "name": "stdout",
     "output_type": "stream",
     "text": [
      "56\n",
      "56\n",
      "\n",
      "45\n",
      "\n",
      "56\n",
      "\n"
     ]
    }
   ],
   "source": [
    "# Print a value from a Series\n",
    "sr = pd.Series([12,23,34,45,56,67], index = ['A', 'B', 'C', 'D', 'E', 'F'])\n",
    "print(sr['E'])\n",
    "print(sr[4])\n",
    "print()\n",
    "\n",
    "# But if the indexes are change to integers, then we use the '.loc[index]' for user-defined indexes\n",
    "sr = pd.Series([12,23,34,45,56,67], index = [1, 2, 3, 4, 5, 6])\n",
    "print(sr.loc[4])\n",
    "print()\n",
    "\n",
    "# And if we use the '.iloc[index]', we use the predefined indexes\n",
    "print(sr.iloc[4])\n",
    "print()"
   ]
  },
  {
   "cell_type": "markdown",
   "metadata": {},
   "source": [
    "# DataFrames"
   ]
  },
  {
   "cell_type": "code",
   "execution_count": 5,
   "metadata": {},
   "outputs": [
    {
     "name": "stdout",
     "output_type": "stream",
     "text": [
      "   Age   Color\n",
      "0   17     Red\n",
      "1   22    Blue\n",
      "2   45  Yellow\n",
      "\n",
      "\n"
     ]
    }
   ],
   "source": [
    "# Create a DataFrame\n",
    "df = pd.DataFrame({'Age': [17, 22, 45], \n",
    "                   'Color': ['Red', 'Blue', 'Yellow']\n",
    "                  })\n",
    "print(df)\n",
    "print()\n",
    "\n",
    "df\n",
    "print()"
   ]
  },
  {
   "cell_type": "markdown",
   "metadata": {},
   "source": [
    "# Make DataFrame from a Numpy array"
   ]
  },
  {
   "cell_type": "code",
   "execution_count": 6,
   "metadata": {},
   "outputs": [
    {
     "name": "stdout",
     "output_type": "stream",
     "text": [
      "    0   1   2\n",
      "0  17  22  65\n",
      "1  56  87  21\n",
      "2  77  24  69\n",
      "\n"
     ]
    }
   ],
   "source": [
    "ar = npy.array([[17, 22, 65],\n",
    "                [56, 87, 21],\n",
    "                [77, 24, 69]\n",
    "               ])\n",
    "df2 = pd.DataFrame(data = ar)\n",
    "print(df2)\n",
    "print()\n"
   ]
  },
  {
   "cell_type": "markdown",
   "metadata": {},
   "source": [
    "# Define column and/or row names in DataFrame"
   ]
  },
  {
   "cell_type": "code",
   "execution_count": 7,
   "metadata": {},
   "outputs": [
    {
     "name": "stdout",
     "output_type": "stream",
     "text": [
      "   C1  C2  C3\n",
      "A  17  22  65\n",
      "B  56  87  21\n",
      "C  77  24  69\n",
      "\n"
     ]
    }
   ],
   "source": [
    "# Define the column names, and the rows (indexes)\n",
    "df3 = pd.DataFrame(data = ar, columns = ['C1', 'C2', 'C3'], index = ['A', 'B', 'C'])\n",
    "print(df3)\n",
    "print()\n"
   ]
  },
  {
   "cell_type": "markdown",
   "metadata": {},
   "source": [
    "# Retrieve value(s) from DataFrame"
   ]
  },
  {
   "cell_type": "code",
   "execution_count": 8,
   "metadata": {},
   "outputs": [
    {
     "name": "stdout",
     "output_type": "stream",
     "text": [
      "A    17\n",
      "B    56\n",
      "C    77\n",
      "Name: C1, dtype: int32\n",
      "\n",
      "C1    77\n",
      "C2    24\n",
      "C3    69\n",
      "Name: C, dtype: int32\n",
      "\n",
      "C1    56\n",
      "C2    87\n",
      "C3    21\n",
      "Name: B, dtype: int32\n",
      "\n",
      "[[17 22 65]\n",
      " [56 87 21]\n",
      " [77 24 69]]\n",
      "\n",
      "21\n",
      "\n"
     ]
    }
   ],
   "source": [
    "# Get a specific output (column) from a DataFrame\n",
    "print(df3['C1'])\n",
    "print()\n",
    "\n",
    "# Get a specific output (row) from a DataFrame\n",
    "print(df3.loc['C'])        # User-defined index (.loc[index])\n",
    "print()\n",
    "print(df3.iloc[1])         # Pre-defined index  (.iloc[index])\n",
    "print()\n",
    "\n",
    "# Get a specific output (value) from a DataFrame\n",
    "print(df3.values)\n",
    "print()\n",
    "\n",
    "print(df3.values[1,2])\n",
    "print()"
   ]
  }
 ],
 "metadata": {
  "kernelspec": {
   "display_name": "Python 3",
   "language": "python",
   "name": "python3"
  },
  "language_info": {
   "codemirror_mode": {
    "name": "ipython",
    "version": 3
   },
   "file_extension": ".py",
   "mimetype": "text/x-python",
   "name": "python",
   "nbconvert_exporter": "python",
   "pygments_lexer": "ipython3",
   "version": "3.8.5"
  }
 },
 "nbformat": 4,
 "nbformat_minor": 4
}
