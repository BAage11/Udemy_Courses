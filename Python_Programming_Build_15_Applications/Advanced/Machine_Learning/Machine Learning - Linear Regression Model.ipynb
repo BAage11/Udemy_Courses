{
 "cells": [
  {
   "cell_type": "code",
   "execution_count": 2,
   "metadata": {},
   "outputs": [],
   "source": [
    "from sklearn.linear_model import LinearRegression\n",
    "import pandas\n",
    "\n",
    "# Import data\n",
    "dt = pandas.read_csv('height_and_weight.csv')\n"
   ]
  },
  {
   "cell_type": "code",
   "execution_count": 3,
   "metadata": {},
   "outputs": [],
   "source": [
    "# Remove the first row of column in data, as we do not need that here\n",
    "dt.drop(columns=['Index'], inplace=True)\n"
   ]
  },
  {
   "cell_type": "code",
   "execution_count": 4,
   "metadata": {},
   "outputs": [],
   "source": [
    "# Get input X data, that is the 'Height' column\n",
    "# We need the data to be in a 2D-array (DataFrame), which is on the following format:\n",
    "    # dt.drop(columns=['Weight(lbs)']).values\n",
    "# To get a 1D-array (Series), we would do the following instead:\n",
    "    # dt['Height(In)'].values\n",
    "\n",
    "inp_x = dt.drop(columns=['Weight(lbs)'])\n",
    "\n",
    "# Get output data, that is the 'Weight' column\n",
    "out_y = dt.drop(columns=['Height(In)'])\n"
   ]
  },
  {
   "cell_type": "code",
   "execution_count": 5,
   "metadata": {},
   "outputs": [
    {
     "data": {
      "text/plain": [
       "array([[<AxesSubplot:title={'center':'Height(In)'}>,\n",
       "        <AxesSubplot:title={'center':'Weight(lbs)'}>]], dtype=object)"
      ]
     },
     "execution_count": 5,
     "metadata": {},
     "output_type": "execute_result"
    },
    {
     "data": {
      "image/png": "[encoded data removed]",
      "text/plain": [
       "<Figure size 432x288 with 2 Axes>"
      ]
     },
     "metadata": {
      "needs_background": "light"
     },
     "output_type": "display_data"
    }
   ],
   "source": [
    "# View how the data is distibuted\n",
    "dt.hist()\n"
   ]
  },
  {
   "cell_type": "code",
   "execution_count": 6,
   "metadata": {},
   "outputs": [
    {
     "data": {
      "text/plain": [
       "array([<AxesSubplot:title={'center':'Height(In)'}>,\n",
       "       <AxesSubplot:title={'center':'Weight(lbs)'}>], dtype=object)"
      ]
     },
     "execution_count": 6,
     "metadata": {},
     "output_type": "execute_result"
    },
    {
     "data": {
      "image/png": "[encoded data removed]",
      "text/plain": [
       "<Figure size 432x288 with 2 Axes>"
      ]
     },
     "metadata": {
      "needs_background": "light"
     },
     "output_type": "display_data"
    }
   ],
   "source": [
    "# Or as a barchart\n",
    "dt.plot.bar(subplots=True)\n"
   ]
  },
  {
   "cell_type": "code",
   "execution_count": 7,
   "metadata": {
    "scrolled": false
   },
   "outputs": [
    {
     "data": {
      "text/plain": [
       "<AxesSubplot:>"
      ]
     },
     "execution_count": 7,
     "metadata": {},
     "output_type": "execute_result"
    },
    {
     "data": {
      "image/png": "[encoded data removed]",
      "text/plain": [
       "<Figure size 432x288 with 1 Axes>"
      ]
     },
     "metadata": {
      "needs_background": "light"
     },
     "output_type": "display_data"
    }
   ],
   "source": [
    "# Get the first 50 values of the data, plotted in a bar chart\n",
    "# Done to view if the dataset has a normal distribution (or a uniformed distribution) of the datab\n",
    "inp_x.head(50).plot.bar()\n"
   ]
  },
  {
   "cell_type": "code",
   "execution_count": null,
   "metadata": {},
   "outputs": [],
   "source": []
  },
  {
   "cell_type": "code",
   "execution_count": 8,
   "metadata": {},
   "outputs": [
    {
     "data": {
      "text/plain": [
       "LinearRegression()"
      ]
     },
     "execution_count": 8,
     "metadata": {},
     "output_type": "execute_result"
    }
   ],
   "source": [
    "# Create our model for ML\n",
    "Model = LinearRegression()\n",
    "\n",
    "# Then, train the model with the input and output using the fit-method\n",
    "Model.fit(inp_x, out_y)\n"
   ]
  },
  {
   "cell_type": "code",
   "execution_count": 9,
   "metadata": {},
   "outputs": [
    {
     "data": {
      "text/plain": [
       "array([[99.93286131]])"
      ]
     },
     "execution_count": 9,
     "metadata": {},
     "output_type": "execute_result"
    }
   ],
   "source": [
    "# Let the model now predict something\n",
    "Model.predict([[60]])     # Person with 60 inches in height, would thereby be about 99.9 lbs in weight\n"
   ]
  },
  {
   "cell_type": "code",
   "execution_count": 10,
   "metadata": {},
   "outputs": [],
   "source": [
    "from sklearn.model_selection import train_test_split\n",
    "\n",
    "# Divide the data into training set and testing set\n",
    "height = dt.drop(columns=['Weight(lbs)'])\n",
    "weight = dt.drop(columns=['Height(In)'])\n",
    "\n",
    "# Training set\n",
    "inp_x2 = height.values[:180]\n",
    "out_y2 = weight.values[:180]\n",
    "\n",
    "# Testing set\n",
    "tst_x = height.values[180:]\n",
    "tst_y = weight.values[180:]\n",
    "\n",
    "\n",
    "# Use sklearn to divide the data into testing and training sets\n",
    "#   inp_x2, tst_x, out_y2, tst_y = train_test_split(height, weight, test_size = 0.1)\n"
   ]
  },
  {
   "cell_type": "code",
   "execution_count": 11,
   "metadata": {},
   "outputs": [
    {
     "data": {
      "text/plain": [
       "LinearRegression()"
      ]
     },
     "execution_count": 11,
     "metadata": {},
     "output_type": "execute_result"
    }
   ],
   "source": [
    "# Train the model with the training set\n",
    "Model2 = LinearRegression()\n",
    "Model2.fit(inp_x2, out_y2)\n"
   ]
  },
  {
   "cell_type": "code",
   "execution_count": 12,
   "metadata": {},
   "outputs": [],
   "source": [
    "# And the use the testing set to predict the outcome of the model\n",
    "pred_y = Model2.predict(tst_x)\n"
   ]
  },
  {
   "cell_type": "code",
   "execution_count": 13,
   "metadata": {
    "scrolled": true
   },
   "outputs": [
    {
     "data": {
      "text/plain": [
       "<AxesSubplot:>"
      ]
     },
     "execution_count": 13,
     "metadata": {},
     "output_type": "execute_result"
    },
    {
     "data": {
      "image/png": "[encoded data removed]",
      "text/plain": [
       "<Figure size 720x432 with 1 Axes>"
      ]
     },
     "metadata": {
      "needs_background": "light"
     },
     "output_type": "display_data"
    }
   ],
   "source": [
    "# Make a comparison with the actual data, and the predicted data\n",
    "# flatten() is used to make a 2D-array into a 1D-array, else we get an error\n",
    "cmp = pandas.DataFrame({'Predicted Values': pred_y.flatten(),\n",
    "                        'Actual Values': tst_y.flatten()})\n",
    "\n",
    "# Visualize the comparison, with enlargen plot bar chart\n",
    "cmp.plot.bar(figsize=(10,6))\n"
   ]
  },
  {
   "cell_type": "code",
   "execution_count": 16,
   "metadata": {
    "scrolled": true
   },
   "outputs": [
    {
     "data": {
      "text/plain": [
       "[<matplotlib.lines.Line2D at 0x27bdefd3490>]"
      ]
     },
     "execution_count": 16,
     "metadata": {},
     "output_type": "execute_result"
    },
    {
     "data": {
      "image/png": "[encoded data removed]",
      "text/plain": [
       "<Figure size 432x288 with 1 Axes>"
      ]
     },
     "metadata": {
      "needs_background": "light"
     },
     "output_type": "display_data"
    }
   ],
   "source": [
    "from matplotlib import pyplot\n",
    "# Scatter chart of data points\n",
    "pyplot.scatter(tst_x, tst_y, color = 'blue')\n",
    "\n",
    "# Plot a line on the same graph, of the testing set (x-values) and the predicted outcomes\n",
    "pyplot.plot(tst_x, pred_y, color = 'orange')\n"
   ]
  },
  {
   "cell_type": "code",
   "execution_count": 17,
   "metadata": {},
   "outputs": [
    {
     "data": {
      "text/plain": [
       "26.103262068968718"
      ]
     },
     "execution_count": 17,
     "metadata": {},
     "output_type": "execute_result"
    }
   ],
   "source": [
    "from sklearn import metrics\n",
    "\n",
    "# What is the maximum error of the predicted outcome, and the actual outcome of tests\n",
    "metrics.max_error(tst_y, pred_y)\n"
   ]
  },
  {
   "cell_type": "code",
   "execution_count": 18,
   "metadata": {},
   "outputs": [
    {
     "data": {
      "text/plain": [
       "8.620489049733717"
      ]
     },
     "execution_count": 18,
     "metadata": {},
     "output_type": "execute_result"
    }
   ],
   "source": [
    "# What is the mean value of error within the datapoints\n",
    "metrics.mean_absolute_error(tst_y, pred_y)\n"
   ]
  }
 ],
 "metadata": {
  "kernelspec": {
   "display_name": "Python 3",
   "language": "python",
   "name": "python3"
  },
  "language_info": {
   "codemirror_mode": {
    "name": "ipython",
    "version": 3
   },
   "file_extension": ".py",
   "mimetype": "text/x-python",
   "name": "python",
   "nbconvert_exporter": "python",
   "pygments_lexer": "ipython3",
   "version": "3.8.5"
  }
 },
 "nbformat": 4,
 "nbformat_minor": 4
}
