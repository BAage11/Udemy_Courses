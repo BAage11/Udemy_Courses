{
 "cells": [
  {
   "cell_type": "code",
   "execution_count": 28,
   "metadata": {},
   "outputs": [],
   "source": [
    "import cv2\n",
    "\n",
    "# The .xml file (to recognize faces in images) was located and duplicated for usage here, from the directory: \n",
    "# 'Home/anaconda3/Lib/site_packages/cv2/data/...xml/'\n",
    "FaceRecog = cv2.CascadeClassifier('face_recog_data.xml')"
   ]
  },
  {
   "cell_type": "code",
   "execution_count": 29,
   "metadata": {},
   "outputs": [],
   "source": [
    "# Import the image we want to scan\n",
    "img = cv2.imread('peoples.jpg')\n",
    "\n",
    "# Convert the color of image to black and white, so it works with CascadeClassier()\n",
    "img_x = cv2.cvtColor(img, cv2.COLOR_BGR2GRAY)"
   ]
  },
  {
   "cell_type": "code",
   "execution_count": 30,
   "metadata": {},
   "outputs": [],
   "source": [
    "# Coordinates of image\n",
    "cor = FaceRecog.detectMultiScale(img_x, 1.3, 5)"
   ]
  },
  {
   "cell_type": "code",
   "execution_count": 31,
   "metadata": {},
   "outputs": [],
   "source": [
    "# Create a box around the face recognition detected\n",
    "for (x, y, w, h) in cor:\n",
    "    cv2.rectangle(img, (x, y), (x+w, y+h), (255, 0, 0), 3)"
   ]
  },
  {
   "cell_type": "code",
   "execution_count": 32,
   "metadata": {},
   "outputs": [
    {
     "data": {
      "text/plain": [
       "-1"
      ]
     },
     "execution_count": 32,
     "metadata": {},
     "output_type": "execute_result"
    }
   ],
   "source": [
    "# Display the image with face recognition\n",
    "cv2.imshow('Face Detection', img)\n",
    "cv2.waitKey()"
   ]
  },
  {
   "cell_type": "code",
   "execution_count": 33,
   "metadata": {},
   "outputs": [],
   "source": [
    "# Create a function for displaying image detection, from a directory of image given\n",
    "def face_detect(img_dir):\n",
    "    img = cv2.imread(img_dir)\n",
    "    gimg = cv2.cvtColor(img, cv2.COLOR_BGR2GRAY)\n",
    "    \n",
    "    FaceRecog = cv2.CascadeClassifier('face_recog_data.xml')\n",
    "    cor = FaceRecog.detectMultiScale(gimg, 1.3, 5)\n",
    "    \n",
    "    try:\n",
    "        if cor.all(): \n",
    "            for (x, y, w, h) in cor:\n",
    "                cv2.rectangle(img, (x, y), (x+w, y+h), (255, 0, 0), 3)\n",
    "            return img\n",
    "        \n",
    "    except AttributeError:\n",
    "        return img\n",
    "        "
   ]
  },
  {
   "cell_type": "code",
   "execution_count": 34,
   "metadata": {},
   "outputs": [
    {
     "data": {
      "text/plain": [
       "-1"
      ]
     },
     "execution_count": 34,
     "metadata": {},
     "output_type": "execute_result"
    }
   ],
   "source": [
    "cv2.imshow('Face Detection', face_detect('peoples.jpg'))\n",
    "cv2.waitKey()"
   ]
  },
  {
   "cell_type": "code",
   "execution_count": 35,
   "metadata": {},
   "outputs": [
    {
     "data": {
      "text/plain": [
       "-1"
      ]
     },
     "execution_count": 35,
     "metadata": {},
     "output_type": "execute_result"
    }
   ],
   "source": [
    "cv2.imshow('Face Detection', face_detect('sample.jpg'))\n",
    "cv2.waitKey()"
   ]
  }
 ],
 "metadata": {
  "kernelspec": {
   "display_name": "Python 3",
   "language": "python",
   "name": "python3"
  },
  "language_info": {
   "codemirror_mode": {
    "name": "ipython",
    "version": 3
   },
   "file_extension": ".py",
   "mimetype": "text/x-python",
   "name": "python",
   "nbconvert_exporter": "python",
   "pygments_lexer": "ipython3",
   "version": "3.8.5"
  }
 },
 "nbformat": 4,
 "nbformat_minor": 4
}
