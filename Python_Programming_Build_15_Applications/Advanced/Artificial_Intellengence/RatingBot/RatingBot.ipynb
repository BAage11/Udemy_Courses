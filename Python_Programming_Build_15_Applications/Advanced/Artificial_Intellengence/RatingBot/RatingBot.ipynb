{
 "cells": [
  {
   "cell_type": "code",
   "execution_count": 7,
   "metadata": {},
   "outputs": [],
   "source": [
    "import pandas\n",
    "from sklearn.feature_extraction.text import CountVectorizer, TfidfTransformer\n",
    "dt = pandas.read_csv('reviews.csv')"
   ]
  },
  {
   "cell_type": "code",
   "execution_count": 12,
   "metadata": {},
   "outputs": [],
   "source": [
    "X = dt['Reviews']\n",
    "Y = dt['Rating'].tolist()\n",
    "\n",
    "# Feature Extraction\n",
    "vec = CountVectorizer()\n",
    "vec.fit(X)\n",
    "vec_X = vec.transform(X)"
   ]
  },
  {
   "cell_type": "code",
   "execution_count": 16,
   "metadata": {},
   "outputs": [],
   "source": [
    "# Tf IDf extraction\n",
    "tfidf = TfidfTransformer()\n",
    "\n",
    "tfidf.fit(vec_X)\n",
    "rev = tfidf.transform(vec_X)"
   ]
  },
  {
   "cell_type": "code",
   "execution_count": 19,
   "metadata": {},
   "outputs": [],
   "source": [
    "from sklearn.tree import DecisionTreeClassifier"
   ]
  },
  {
   "cell_type": "code",
   "execution_count": 20,
   "metadata": {},
   "outputs": [
    {
     "data": {
      "text/plain": [
       "DecisionTreeClassifier()"
      ]
     },
     "execution_count": 20,
     "metadata": {},
     "output_type": "execute_result"
    }
   ],
   "source": [
    "Model = DecisionTreeClassifier()\n",
    "Model.fit(rev, y)"
   ]
  },
  {
   "cell_type": "code",
   "execution_count": 29,
   "metadata": {},
   "outputs": [],
   "source": [
    "# A function for predicting a comment as 'Good', 'Bad', or 'Average'\n",
    "# Make the calling function into a list of comment (*)\n",
    "def rate(*comment):\n",
    "    f_ex = vec.transform(comment)\n",
    "    tf = tfidf.transform(f_ex)\n",
    "    pred = Model.predict(tf)\n",
    "    \n",
    "    for review,rating in zip(comment, pred):\n",
    "        print(review, \":\\n\", \"Rating:\", rating)\n",
    "    \n",
    "    "
   ]
  },
  {
   "cell_type": "code",
   "execution_count": 30,
   "metadata": {},
   "outputs": [
    {
     "name": "stdout",
     "output_type": "stream",
     "text": [
      "Not in good condition :\n",
      " Rating: Poor\n",
      "It is satisfactory :\n",
      " Rating: Good\n"
     ]
    }
   ],
   "source": [
    "rate(\"Not in good condition\",\n",
    "     \"It is satisfactory\")\n"
   ]
  }
 ],
 "metadata": {
  "kernelspec": {
   "display_name": "Python 3",
   "language": "python",
   "name": "python3"
  },
  "language_info": {
   "codemirror_mode": {
    "name": "ipython",
    "version": 3
   },
   "file_extension": ".py",
   "mimetype": "text/x-python",
   "name": "python",
   "nbconvert_exporter": "python",
   "pygments_lexer": "ipython3",
   "version": "3.8.5"
  }
 },
 "nbformat": 4,
 "nbformat_minor": 4
}
