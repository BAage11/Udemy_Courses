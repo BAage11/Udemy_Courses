{
 "cells": [
  {
   "cell_type": "code",
   "execution_count": 1,
   "metadata": {},
   "outputs": [
    {
     "data": {
      "text/plain": [
       "['The',\n",
       " 'product',\n",
       " 'was',\n",
       " 'good',\n",
       " 'but',\n",
       " 'the',\n",
       " 'delivery',\n",
       " 'package',\n",
       " 'has',\n",
       " 'scratches']"
      ]
     },
     "execution_count": 1,
     "metadata": {},
     "output_type": "execute_result"
    }
   ],
   "source": [
    "import nltk\n",
    "txt = open('data.txt')\n",
    "\n",
    "# Tokenize the words in file\n",
    "tok_txt = nltk.word_tokenize(txt.read())\n",
    "tok_txt"
   ]
  },
  {
   "cell_type": "code",
   "execution_count": 2,
   "metadata": {},
   "outputs": [
    {
     "data": {
      "text/plain": [
       "CountVectorizer()"
      ]
     },
     "execution_count": 2,
     "metadata": {},
     "output_type": "execute_result"
    }
   ],
   "source": [
    "from sklearn.feature_extraction.text import CountVectorizer\n",
    "\n",
    "txt = ['The product was good', \n",
    "       'but the delivery package has scratches']\n",
    "\n",
    "Vec = CountVectorizer()\n",
    "Vec.fit(txt)\n"
   ]
  },
  {
   "cell_type": "code",
   "execution_count": 3,
   "metadata": {},
   "outputs": [
    {
     "data": {
      "text/plain": [
       "['but',\n",
       " 'delivery',\n",
       " 'good',\n",
       " 'has',\n",
       " 'package',\n",
       " 'product',\n",
       " 'scratches',\n",
       " 'the',\n",
       " 'was']"
      ]
     },
     "execution_count": 3,
     "metadata": {},
     "output_type": "execute_result"
    }
   ],
   "source": [
    "# Excludes commas, exclamation marks etc., as well as duplicated words (not the same as tokens)\n",
    "Vec.get_feature_names()\n"
   ]
  },
  {
   "cell_type": "code",
   "execution_count": 4,
   "metadata": {
    "scrolled": true
   },
   "outputs": [
    {
     "data": {
      "text/plain": [
       "{'the': 7,\n",
       " 'product': 5,\n",
       " 'was': 8,\n",
       " 'good': 2,\n",
       " 'but': 0,\n",
       " 'delivery': 1,\n",
       " 'package': 4,\n",
       " 'has': 3,\n",
       " 'scratches': 6}"
      ]
     },
     "execution_count": 4,
     "metadata": {},
     "output_type": "execute_result"
    }
   ],
   "source": [
    "# Get the weight of each word in text data, and can be understood by our computerb\n",
    "Vec.vocabulary_\n"
   ]
  },
  {
   "cell_type": "code",
   "execution_count": 5,
   "metadata": {},
   "outputs": [
    {
     "data": {
      "text/plain": [
       "array([[0, 0, 1, 0, 0, 1, 0, 1, 1],\n",
       "       [1, 1, 0, 1, 1, 0, 1, 1, 0]], dtype=int64)"
      ]
     },
     "execution_count": 5,
     "metadata": {},
     "output_type": "execute_result"
    }
   ],
   "source": [
    "# Transform our data into something meaningful by our computer (so it can understand)\n",
    "X = Vec.transform(txt)\n",
    "\n",
    "# See the transformation of words\n",
    "X.toarray()\n",
    "\n",
    "# The sentences where as follows in 'txt':\n",
    "      # 'The product was good', \n",
    "      # 'but the delivery package has scratches'\n",
    "# So, in the array below we can see that the first array has the following:\n",
    "      # [0, 0, 1, 0, 0, 1, 0, 1, 1]\n",
    "# When compared with 'Vec.get_feature_names()'. we can see that it translates to which words are within the sentence:\n",
    "      # ['but', 'delivery', 'good', 'has', 'package', 'product', 'scratches', 'the', 'was']\n",
    "      #    no       no        yes     no       no        yes          no        yes    yes\n",
    "      #                      good                      product                 the     was\n",
    "# Same goes for the second array below [1, 1, 0, 1, 1, 0, 1, 1, 0]\n"
   ]
  },
  {
   "cell_type": "code",
   "execution_count": 6,
   "metadata": {},
   "outputs": [
    {
     "data": {
      "text/plain": [
       "TfidfTransformer()"
      ]
     },
     "execution_count": 6,
     "metadata": {},
     "output_type": "execute_result"
    }
   ],
   "source": [
    "# TF - Term Frequency  (how many times a term is used)\n",
    "# IDF - Inverse Document Frequency (opposite of TF)\n",
    "\n",
    "from sklearn.feature_extraction.text import TfidfTransformer\n",
    "\n",
    "# Transform text for computer to understand and divide text into 'good' and/or 'bad'\n",
    "TfIdf = TfidfTransformer()\n",
    "TfIdf.fit(X)\n"
   ]
  },
  {
   "cell_type": "code",
   "execution_count": 7,
   "metadata": {},
   "outputs": [],
   "source": [
    "tfidf_txt = TfIdf.transform(X)"
   ]
  },
  {
   "cell_type": "code",
   "execution_count": 9,
   "metadata": {},
   "outputs": [
    {
     "data": {
      "text/plain": [
       "<2x9 sparse matrix of type '<class 'numpy.int64'>'\n",
       "\twith 10 stored elements in Compressed Sparse Row format>"
      ]
     },
     "execution_count": 9,
     "metadata": {},
     "output_type": "execute_result"
    }
   ],
   "source": [
    "X"
   ]
  },
  {
   "cell_type": "code",
   "execution_count": 8,
   "metadata": {
    "scrolled": true
   },
   "outputs": [
    {
     "data": {
      "text/plain": [
       "<2x9 sparse matrix of type '<class 'numpy.float64'>'\n",
       "\twith 10 stored elements in Compressed Sparse Row format>"
      ]
     },
     "execution_count": 8,
     "metadata": {},
     "output_type": "execute_result"
    }
   ],
   "source": [
    "tfidf_txt"
   ]
  },
  {
   "cell_type": "code",
   "execution_count": null,
   "metadata": {},
   "outputs": [],
   "source": []
  }
 ],
 "metadata": {
  "kernelspec": {
   "display_name": "Python 3",
   "language": "python",
   "name": "python3"
  },
  "language_info": {
   "codemirror_mode": {
    "name": "ipython",
    "version": 3
   },
   "file_extension": ".py",
   "mimetype": "text/x-python",
   "name": "python",
   "nbconvert_exporter": "python",
   "pygments_lexer": "ipython3",
   "version": "3.8.5"
  }
 },
 "nbformat": 4,
 "nbformat_minor": 4
}
